{
 "cells": [
  {
   "cell_type": "code",
   "execution_count": 26,
   "id": "fb44f4c1",
   "metadata": {},
   "outputs": [],
   "source": [
    "import pandas as pd\n",
    "import numpy as np\n",
    "from sklearn.model_selection import train_test_split\n",
    "from sklearn.linear_model import LogisticRegression\n",
    "from sklearn.metrics import accuracy_score,classification_report\n",
    "import pickle"
   ]
  },
  {
   "cell_type": "code",
   "execution_count": 27,
   "id": "2515a35e",
   "metadata": {},
   "outputs": [],
   "source": [
    "#X,y -> iris_raw, target -> y, drop species"
   ]
  },
  {
   "cell_type": "code",
   "execution_count": 28,
   "id": "122f089d",
   "metadata": {},
   "outputs": [],
   "source": [
    "df = pd.read_csv('iris_raw.csv')\n",
    "X = df.drop(columns=['target','species'])\n",
    "y = df['target']"
   ]
  },
  {
   "cell_type": "code",
   "execution_count": 29,
   "id": "c5dd54d9",
   "metadata": {},
   "outputs": [],
   "source": [
    "# split into train and test,, 0.2\n",
    "log_model = LogisticRegression(max_iter=200)\n",
    "X_train, X_test, y_train, y_test = train_test_split(X, y, test_size=0.2, random_state=42)"
   ]
  },
  {
   "cell_type": "code",
   "execution_count": 30,
   "id": "dcfc8e06",
   "metadata": {},
   "outputs": [
    {
     "name": "stdout",
     "output_type": "stream",
     "text": [
      "[1 0 2 1 1 0 1 2 1 1 2 0 0 0 0 1 2 1 1 2 0 2 0 2 2 2 2 2 0 0]\n"
     ]
    }
   ],
   "source": [
    "#train the model with LogisticRegression\n",
    "log_model.fit(X_train, y_train)\n",
    "y_pred = log_model.predict(X_test)\n",
    "print(y_pred)"
   ]
  },
  {
   "cell_type": "code",
   "execution_count": 31,
   "id": "ead28c7a",
   "metadata": {},
   "outputs": [
    {
     "name": "stdout",
     "output_type": "stream",
     "text": [
      "1.0\n"
     ]
    }
   ],
   "source": [
    "#create y_pred with predict()\n",
    "# check accuracy_score and classification_report\n",
    "print(accuracy_score(y_test, y_pred))"
   ]
  },
  {
   "cell_type": "code",
   "execution_count": 34,
   "id": "5ca3cc16",
   "metadata": {},
   "outputs": [],
   "source": [
    "with open('../models/logistic_model.pkl', 'wb') as f:\n",
    "    pickle.dump(log_model, f)"
   ]
  }
 ],
 "metadata": {
  "kernelspec": {
   "display_name": "_.venv (3.13.5)",
   "language": "python",
   "name": "python3"
  },
  "language_info": {
   "codemirror_mode": {
    "name": "ipython",
    "version": 3
   },
   "file_extension": ".py",
   "mimetype": "text/x-python",
   "name": "python",
   "nbconvert_exporter": "python",
   "pygments_lexer": "ipython3",
   "version": "3.13.5"
  }
 },
 "nbformat": 4,
 "nbformat_minor": 5
}
